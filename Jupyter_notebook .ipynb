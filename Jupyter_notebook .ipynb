{
 "cells": [
  {
   "cell_type": "markdown",
   "id": "7d7dd4a4",
   "metadata": {},
   "source": [
    "<h1>My Jupyter Notebook on IBM Watson Studio</h1>"
   ]
  },
  {
   "cell_type": "markdown",
   "id": "cba316c9",
   "metadata": {},
   "source": [
    "<h2>Varun Buddha</h2>"
   ]
  },
  {
   "cell_type": "markdown",
   "id": "d40f01ba",
   "metadata": {},
   "source": [
    "<i>I am interested in Data Science because I would love to contribute towards quality and affordable healthcare</i>"
   ]
  },
  {
   "cell_type": "code",
   "execution_count": 2,
   "id": "f2b1a2e1",
   "metadata": {
    "scrolled": true
   },
   "outputs": [
    {
     "name": "stdout",
     "output_type": "stream",
     "text": [
      "Hello World\n"
     ]
    }
   ],
   "source": [
    "print(\"Hello World\")"
   ]
  },
  {
   "cell_type": "markdown",
   "id": "2a47c1fe",
   "metadata": {},
   "source": [
    "<ol>\n",
    "<li>Data Scientist</li>\n",
    "<li>Data Engineer</li>\n",
    "<li>Data Analyst</li>\n",
    "</ol>\n",
    "\n",
    "<hr/>\n",
    "\n",
    "<ul>\n",
    "<li>Python</li>\n",
    "<li>R</li>\n",
    "<li>SQL</li>\n",
    "</ul>"
   ]
  },
  {
   "cell_type": "code",
   "execution_count": null,
   "id": "80d93f73",
   "metadata": {},
   "outputs": [],
   "source": []
  }
 ],
 "metadata": {
  "kernelspec": {
   "display_name": "Python 3 (ipykernel)",
   "language": "python",
   "name": "python3"
  },
  "language_info": {
   "codemirror_mode": {
    "name": "ipython",
    "version": 3
   },
   "file_extension": ".py",
   "mimetype": "text/x-python",
   "name": "python",
   "nbconvert_exporter": "python",
   "pygments_lexer": "ipython3",
   "version": "3.9.12"
  }
 },
 "nbformat": 4,
 "nbformat_minor": 5
}
